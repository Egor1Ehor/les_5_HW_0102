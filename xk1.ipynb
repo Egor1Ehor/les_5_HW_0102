{
 "cells": [
  {
   "cell_type": "code",
   "execution_count": 30,
   "metadata": {},
   "outputs": [
    {
     "name": "stdout",
     "output_type": "stream",
     "text": [
      "Корень 2.8371\n",
      "Колличество итераций 267\n"
     ]
    }
   ],
   "source": [
    "A = int(input('Введите числа'))\n",
    "n = int(input('Введите число'))\n",
    "counter=0 \n",
    "accuracy = 0.0001\n",
    "xk = A / 2\n",
    "xk1 = 1 / n*((n - 1) * xk + A / xk**(n - 1))\n",
    "\n",
    "while True:\n",
    "    xk1_rounded = round(xk1, 4)\n",
    "    if abs(xk - xk1_rounded) > accuracy:\n",
    "        xk = xk1\n",
    "        xk1 = (1 / n)*((n - 1) * xk + A / xk**(n - 1))\n",
    "        counter+=1\n",
    "    else:\n",
    "        break\n",
    "print(\"Корень\",xk1_rounded)\n",
    "print(\"Колличество итераций\",counter) \n"
   ]
  }
 ],
 "metadata": {
  "language_info": {
   "name": "python"
  }
 },
 "nbformat": 4,
 "nbformat_minor": 2
}
